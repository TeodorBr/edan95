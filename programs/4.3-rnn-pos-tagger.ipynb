{
 "cells": [
  {
   "cell_type": "markdown",
   "metadata": {},
   "source": [
    "# Part-of-Speech Tagging using Recurrent Neural Networks (RNN)\n",
    "Author: Pierre Nugues\n",
    "\n",
    "A part-of-speech tagger using recurrent networks and GloVe embeddings and trained on a corpus following the Universal Dependencies format. Here we use the English Web Treebank:\n",
    "https://github.com/UniversalDependencies/UD_English-EWT/tree/master."
   ]
  },
  {
   "cell_type": "markdown",
   "metadata": {},
   "source": [
    "## Python Headers"
   ]
  },
  {
   "cell_type": "markdown",
   "metadata": {},
   "source": [
    "### The Modules"
   ]
  },
  {
   "cell_type": "code",
   "execution_count": 1,
   "metadata": {},
   "outputs": [],
   "source": [
    "import sys\n",
    "import os\n",
    "from sklearn.feature_extraction import DictVectorizer\n",
    "import time\n",
    "from keras import models, layers\n",
    "import sys\n",
    "import numpy as np\n",
    "from sklearn.preprocessing import StandardScaler\n",
    "from sklearn.pipeline import Pipeline\n",
    "from keras.models import load_model\n",
    "import math\n",
    "from keras.preprocessing.sequence import pad_sequences\n",
    "from keras.utils import to_categorical\n",
    "from keras.layers import LSTM, Bidirectional, SimpleRNN, Dense, Embedding\n",
    "import matplotlib.pyplot as plt"
   ]
  },
  {
   "cell_type": "markdown",
   "metadata": {},
   "source": [
    "### Some Parameters"
   ]
  },
  {
   "cell_type": "code",
   "execution_count": 2,
   "metadata": {},
   "outputs": [],
   "source": [
    "OPTIMIZER = 'rmsprop'\n",
    "BATCH_SIZE = 128\n",
    "EPOCHS = 10\n",
    "EMBEDDING_DIM = 100\n",
    "MAX_SEQUENCE_LENGTH = 150\n",
    "LSTM_UNITS = 512\n",
    "MINI_CORPUS = False"
   ]
  },
  {
   "cell_type": "markdown",
   "metadata": {},
   "source": [
    "## Preprocessing"
   ]
  },
  {
   "cell_type": "markdown",
   "metadata": {},
   "source": [
    "### Loading the Embeddings\n",
    "We will use GloVe embeddings and load them"
   ]
  },
  {
   "cell_type": "code",
   "execution_count": 3,
   "metadata": {},
   "outputs": [],
   "source": [
    "def load(file):\n",
    "    \"\"\"\n",
    "    Return the embeddings in the from of a dictionary\n",
    "    :param file:\n",
    "    :return:\n",
    "    \"\"\"\n",
    "    file = file\n",
    "    embeddings = {}\n",
    "    glove = open(file)\n",
    "    for line in glove:\n",
    "        values = line.strip().split()\n",
    "        word = values[0]\n",
    "        vector = np.array(values[1:], dtype='float32')\n",
    "        embeddings[word] = vector\n",
    "    glove.close()\n",
    "    embeddings_dict = embeddings\n",
    "    embedded_words = sorted(list(embeddings_dict.keys()))\n",
    "    return embeddings_dict"
   ]
  },
  {
   "cell_type": "code",
   "execution_count": 4,
   "metadata": {},
   "outputs": [],
   "source": [
    "embedding_file = '/Users/pierre/Documents/Cours/EDAN20/corpus/glove.6B.100d.txt'\n",
    "embeddings_dict = load(embedding_file)"
   ]
  },
  {
   "cell_type": "code",
   "execution_count": 5,
   "metadata": {},
   "outputs": [
    {
     "data": {
      "text/plain": [
       "array([-0.61454  ,  0.89693  ,  0.56771  ,  0.39102  , -0.22437  ,\n",
       "        0.49035  ,  0.10868  ,  0.27411  , -0.23833  , -0.52153  ,\n",
       "        0.73551  , -0.32654  ,  0.51304  ,  0.32415  , -0.46709  ,\n",
       "        0.68051  , -0.25497  , -0.040484 , -0.54418  , -1.0548   ,\n",
       "       -0.46692  ,  0.23557  ,  0.31234  , -0.34537  ,  0.14793  ,\n",
       "       -0.53745  , -0.43215  , -0.48724  , -0.51019  , -0.9051   ,\n",
       "       -0.17919  , -0.018376 ,  0.09719  , -0.31623  ,  0.7512   ,\n",
       "        0.92236  , -0.49965  ,  0.14036  , -0.28296  , -0.97443  ,\n",
       "       -0.0094408, -0.62944  ,  0.14711  , -0.94376  ,  0.0075222,\n",
       "        0.18565  , -0.99172  ,  0.072789 , -0.18474  , -0.52901  ,\n",
       "        0.38995  , -0.45677  , -0.21932  ,  1.3723   , -0.29636  ,\n",
       "       -2.2342   , -0.36667  ,  0.04987  ,  0.63421  ,  0.53275  ,\n",
       "       -0.53955  ,  0.31398  , -0.44698  , -0.38389  ,  0.066668 ,\n",
       "       -0.02168  ,  0.20558  ,  0.59456  , -0.24892  , -0.52795  ,\n",
       "       -0.3761   ,  0.077104 ,  0.75222  , -0.2647   , -0.0587   ,\n",
       "        0.67541  , -0.16559  , -0.49278  , -0.26327  , -0.21215  ,\n",
       "        0.24317  ,  0.17006  , -0.2926   , -0.5009   , -0.56638  ,\n",
       "       -0.40377  , -0.48452  , -0.32539  ,  0.75293  ,  0.0049585,\n",
       "       -0.32115  ,  0.28899  , -0.042392 ,  0.63863  , -0.20332  ,\n",
       "       -0.46785  , -0.15661  ,  0.2179   ,  1.4143   ,  0.40034  ],\n",
       "      dtype=float32)"
      ]
     },
     "execution_count": 5,
     "metadata": {},
     "output_type": "execute_result"
    }
   ],
   "source": [
    "embeddings_dict['table']"
   ]
  },
  {
   "cell_type": "markdown",
   "metadata": {},
   "source": [
    "### Loading the Corpus"
   ]
  },
  {
   "cell_type": "code",
   "execution_count": 6,
   "metadata": {},
   "outputs": [
    {
     "data": {
      "text/plain": [
       "'# newdoc id = weblog-juancole.com_juancole_20051126063000_ENG_20051126_063000\\n# sent_id = weblog-jua'"
      ]
     },
     "execution_count": 6,
     "metadata": {},
     "output_type": "execute_result"
    }
   ],
   "source": [
    "def load_ud_en_ewt():\n",
    "    BASE_DIR = '/Users/pierre/Documents/Cours/EDAN20/corpus/ud-treebanks-v2.7/UD_English-EWT/'\n",
    "    train_file = BASE_DIR + 'en_ewt-ud-train.conllu'\n",
    "    dev_file = BASE_DIR + 'en_ewt-ud-dev.conllu'\n",
    "    test_file = BASE_DIR + 'en_ewt-ud-test.conllu'\n",
    "    column_names = ['ID', 'FORM', 'LEMMA', 'UPOS', 'XPOS', \n",
    "                    'FEATS', 'HEAD', 'DEPREL', 'HEAD', 'DEPS', 'MISC']\n",
    "    column_names = list(map(str.lower, column_names))\n",
    "    train_sentences = open(train_file).read().strip()\n",
    "    dev_sentences = open(dev_file).read().strip()\n",
    "    test_sentences = open(test_file).read().strip()\n",
    "    # test2_sentences = open(test2_file).read().strip()\n",
    "    return train_sentences, dev_sentences, test_sentences, column_names\n",
    "\n",
    "def load_conll2009_pos():\n",
    "    BASE_DIR = '/Users/pierre/Documents/Cours/EDAN20/corpus/conll2009/en/'\n",
    "    train_file = BASE_DIR + 'CoNLL2009-ST-English-train-pos.txt'\n",
    "    dev_file = BASE_DIR + 'CoNLL2009-ST-English-development-pos.txt'\n",
    "    test_file = BASE_DIR + 'CoNLL2009-ST-test-words-pos.txt'\n",
    "    # test2_file = 'simple_pos_test.txt'\n",
    "\n",
    "    column_names = ['id', 'form', 'lemma', 'plemma', 'pos', 'ppos']\n",
    "\n",
    "    train_sentences = open(train_file).read().strip()\n",
    "    dev_sentences = open(dev_file).read().strip()\n",
    "    test_sentences = open(test_file).read().strip()\n",
    "    # test2_sentences = open(test2_file).read().strip()\n",
    "    return train_sentences, dev_sentences, test_sentences, column_names\n",
    "\n",
    "# train_sentences, dev_sentences, test_sentences, column_names = \\\n",
    "# load_conll2009_pos()\n",
    "train_sentences, dev_sentences, test_sentences, column_names =\\\n",
    "load_ud_en_ewt()\n",
    "train_sentences[:100]"
   ]
  },
  {
   "cell_type": "markdown",
   "metadata": {},
   "source": [
    "### Converting the Corpus in a Dictionary\n",
    "We follow the fit-transform pattern of sklearn"
   ]
  },
  {
   "cell_type": "code",
   "execution_count": 7,
   "metadata": {},
   "outputs": [],
   "source": [
    "import regex as re\n",
    "\n",
    "class Token(dict):\n",
    "    pass\n",
    "\n",
    "class CoNLLDictorizer:\n",
    "\n",
    "    def __init__(self, column_names, sent_sep='\\n\\n', col_sep=' +'):\n",
    "        self.column_names = column_names\n",
    "        self.sent_sep = sent_sep\n",
    "        self.col_sep = col_sep\n",
    "\n",
    "    def fit(self):\n",
    "        pass\n",
    "\n",
    "    def transform(self, corpus):\n",
    "        corpus = corpus.strip()\n",
    "        sentences = re.split(self.sent_sep, corpus)\n",
    "        return list(map(self._split_in_words, sentences))\n",
    "\n",
    "    def fit_transform(self, corpus):\n",
    "        return self.transform(corpus)\n",
    "\n",
    "    def _split_in_words(self, sentence):\n",
    "        rows = re.split('\\n', sentence)\n",
    "        rows = [row for row in rows if row[0] != '#']\n",
    "        return [Token(dict(zip(self.column_names,\n",
    "                               re.split(self.col_sep, row))))\n",
    "                for row in rows]"
   ]
  },
  {
   "cell_type": "code",
   "execution_count": 8,
   "metadata": {},
   "outputs": [
    {
     "name": "stdout",
     "output_type": "stream",
     "text": [
      "First sentence, train: [{'id': '1', 'form': 'Al', 'lemma': 'Al', 'upos': 'PROPN', 'xpos': 'NNP', 'feats': 'Number=Sing', 'head': '0:root', 'deprel': 'root', 'deps': 'SpaceAfter=No'}, {'id': '2', 'form': '-', 'lemma': '-', 'upos': 'PUNCT', 'xpos': 'HYPH', 'feats': '_', 'head': '1:punct', 'deprel': 'punct', 'deps': 'SpaceAfter=No'}, {'id': '3', 'form': 'Zaman', 'lemma': 'Zaman', 'upos': 'PROPN', 'xpos': 'NNP', 'feats': 'Number=Sing', 'head': '1:flat', 'deprel': 'flat', 'deps': '_'}, {'id': '4', 'form': ':', 'lemma': ':', 'upos': 'PUNCT', 'xpos': ':', 'feats': '_', 'head': '1:punct', 'deprel': 'punct', 'deps': '_'}, {'id': '5', 'form': 'American', 'lemma': 'american', 'upos': 'ADJ', 'xpos': 'JJ', 'feats': 'Degree=Pos', 'head': '6:amod', 'deprel': 'amod', 'deps': '_'}, {'id': '6', 'form': 'forces', 'lemma': 'force', 'upos': 'NOUN', 'xpos': 'NNS', 'feats': 'Number=Plur', 'head': '7:nsubj', 'deprel': 'nsubj', 'deps': '_'}, {'id': '7', 'form': 'killed', 'lemma': 'kill', 'upos': 'VERB', 'xpos': 'VBD', 'feats': 'Mood=Ind|Tense=Past|VerbForm=Fin', 'head': '1:parataxis', 'deprel': 'parataxis', 'deps': '_'}, {'id': '8', 'form': 'Shaikh', 'lemma': 'Shaikh', 'upos': 'PROPN', 'xpos': 'NNP', 'feats': 'Number=Sing', 'head': '7:obj', 'deprel': 'obj', 'deps': '_'}, {'id': '9', 'form': 'Abdullah', 'lemma': 'Abdullah', 'upos': 'PROPN', 'xpos': 'NNP', 'feats': 'Number=Sing', 'head': '8:flat', 'deprel': 'flat', 'deps': '_'}, {'id': '10', 'form': 'al', 'lemma': 'al', 'upos': 'PROPN', 'xpos': 'NNP', 'feats': 'Number=Sing', 'head': '8:flat', 'deprel': 'flat', 'deps': 'SpaceAfter=No'}, {'id': '11', 'form': '-', 'lemma': '-', 'upos': 'PUNCT', 'xpos': 'HYPH', 'feats': '_', 'head': '8:punct', 'deprel': 'punct', 'deps': 'SpaceAfter=No'}, {'id': '12', 'form': 'Ani', 'lemma': 'Ani', 'upos': 'PROPN', 'xpos': 'NNP', 'feats': 'Number=Sing', 'head': '8:flat', 'deprel': 'flat', 'deps': 'SpaceAfter=No'}, {'id': '13', 'form': ',', 'lemma': ',', 'upos': 'PUNCT', 'xpos': ',', 'feats': '_', 'head': '8:punct', 'deprel': 'punct', 'deps': '_'}, {'id': '14', 'form': 'the', 'lemma': 'the', 'upos': 'DET', 'xpos': 'DT', 'feats': 'Definite=Def|PronType=Art', 'head': '15:det', 'deprel': 'det', 'deps': '_'}, {'id': '15', 'form': 'preacher', 'lemma': 'preacher', 'upos': 'NOUN', 'xpos': 'NN', 'feats': 'Number=Sing', 'head': '8:appos', 'deprel': 'appos', 'deps': '_'}, {'id': '16', 'form': 'at', 'lemma': 'at', 'upos': 'ADP', 'xpos': 'IN', 'feats': '_', 'head': '18:case', 'deprel': 'case', 'deps': '_'}, {'id': '17', 'form': 'the', 'lemma': 'the', 'upos': 'DET', 'xpos': 'DT', 'feats': 'Definite=Def|PronType=Art', 'head': '18:det', 'deprel': 'det', 'deps': '_'}, {'id': '18', 'form': 'mosque', 'lemma': 'mosque', 'upos': 'NOUN', 'xpos': 'NN', 'feats': 'Number=Sing', 'head': '7:obl:at', 'deprel': 'obl', 'deps': '_'}, {'id': '19', 'form': 'in', 'lemma': 'in', 'upos': 'ADP', 'xpos': 'IN', 'feats': '_', 'head': '21:case', 'deprel': 'case', 'deps': '_'}, {'id': '20', 'form': 'the', 'lemma': 'the', 'upos': 'DET', 'xpos': 'DT', 'feats': 'Definite=Def|PronType=Art', 'head': '21:det', 'deprel': 'det', 'deps': '_'}, {'id': '21', 'form': 'town', 'lemma': 'town', 'upos': 'NOUN', 'xpos': 'NN', 'feats': 'Number=Sing', 'head': '18:nmod:in', 'deprel': 'nmod', 'deps': '_'}, {'id': '22', 'form': 'of', 'lemma': 'of', 'upos': 'ADP', 'xpos': 'IN', 'feats': '_', 'head': '23:case', 'deprel': 'case', 'deps': '_'}, {'id': '23', 'form': 'Qaim', 'lemma': 'Qaim', 'upos': 'PROPN', 'xpos': 'NNP', 'feats': 'Number=Sing', 'head': '21:nmod:of', 'deprel': 'nmod', 'deps': 'SpaceAfter=No'}, {'id': '24', 'form': ',', 'lemma': ',', 'upos': 'PUNCT', 'xpos': ',', 'feats': '_', 'head': '21:punct', 'deprel': 'punct', 'deps': '_'}, {'id': '25', 'form': 'near', 'lemma': 'near', 'upos': 'ADP', 'xpos': 'IN', 'feats': '_', 'head': '28:case', 'deprel': 'case', 'deps': '_'}, {'id': '26', 'form': 'the', 'lemma': 'the', 'upos': 'DET', 'xpos': 'DT', 'feats': 'Definite=Def|PronType=Art', 'head': '28:det', 'deprel': 'det', 'deps': '_'}, {'id': '27', 'form': 'Syrian', 'lemma': 'syrian', 'upos': 'ADJ', 'xpos': 'JJ', 'feats': 'Degree=Pos', 'head': '28:amod', 'deprel': 'amod', 'deps': '_'}, {'id': '28', 'form': 'border', 'lemma': 'border', 'upos': 'NOUN', 'xpos': 'NN', 'feats': 'Number=Sing', 'head': '21:nmod:near', 'deprel': 'nmod', 'deps': 'SpaceAfter=No'}, {'id': '29', 'form': '.', 'lemma': '.', 'upos': 'PUNCT', 'xpos': '.', 'feats': '_', 'head': '1:punct', 'deprel': 'punct', 'deps': '_'}]\n"
     ]
    }
   ],
   "source": [
    "conll_dict = CoNLLDictorizer(column_names, col_sep='\\t')\n",
    "\n",
    "train_dict = conll_dict.transform(train_sentences)\n",
    "dev_dict = conll_dict.transform(dev_sentences)\n",
    "test_dict = conll_dict.transform(test_sentences)\n",
    "\n",
    "if MINI_CORPUS:\n",
    "    train_dict = train_dict[:len(train_dict) // 5]\n",
    "print('First sentence, train:', train_dict[0])"
   ]
  },
  {
   "cell_type": "markdown",
   "metadata": {},
   "source": [
    "### Function to build the two-way sequences\n",
    "Two vectors: $\\mathbf{x}$ and $\\mathbf{y}$"
   ]
  },
  {
   "cell_type": "code",
   "execution_count": 9,
   "metadata": {},
   "outputs": [],
   "source": [
    "def build_sequences(corpus_dict, key_x='form', key_y='upos', tolower=True):\n",
    "    \"\"\"\n",
    "    Creates sequences from a list of dictionaries\n",
    "    :param corpus_dict:\n",
    "    :param key_x:\n",
    "    :param key_y:\n",
    "    :return:\n",
    "    \"\"\"\n",
    "    X = []\n",
    "    Y = []\n",
    "    for sentence in corpus_dict:\n",
    "        x = []\n",
    "        y = []\n",
    "        for word in sentence:\n",
    "            x += [word[key_x]]\n",
    "            y += [word[key_y]]\n",
    "        if tolower:\n",
    "            x = list(map(str.lower, x))\n",
    "        X += [x]\n",
    "        Y += [y]\n",
    "    return X, Y"
   ]
  },
  {
   "cell_type": "code",
   "execution_count": 10,
   "metadata": {},
   "outputs": [
    {
     "name": "stdout",
     "output_type": "stream",
     "text": [
      "First sentence, words ['al', '-', 'zaman', ':', 'american', 'forces', 'killed', 'shaikh', 'abdullah', 'al', '-', 'ani', ',', 'the', 'preacher', 'at', 'the', 'mosque', 'in', 'the', 'town', 'of', 'qaim', ',', 'near', 'the', 'syrian', 'border', '.']\n",
      "First sentence, POS ['PROPN', 'PUNCT', 'PROPN', 'PUNCT', 'ADJ', 'NOUN', 'VERB', 'PROPN', 'PROPN', 'PROPN', 'PUNCT', 'PROPN', 'PUNCT', 'DET', 'NOUN', 'ADP', 'DET', 'NOUN', 'ADP', 'DET', 'NOUN', 'ADP', 'PROPN', 'PUNCT', 'ADP', 'DET', 'ADJ', 'NOUN', 'PUNCT']\n"
     ]
    }
   ],
   "source": [
    "X_train_cat, Y_train_cat = build_sequences(train_dict)\n",
    "X_val_cat, Y_val_cat = build_sequences(dev_dict)\n",
    "print('First sentence, words', X_train_cat[0])\n",
    "print('First sentence, POS', Y_train_cat[0])"
   ]
  },
  {
   "cell_type": "markdown",
   "metadata": {},
   "source": [
    "### Extracting the Unique Words and Parts of Speech"
   ]
  },
  {
   "cell_type": "code",
   "execution_count": 11,
   "metadata": {},
   "outputs": [
    {
     "name": "stdout",
     "output_type": "stream",
     "text": [
      "['ADJ', 'ADP', 'ADV', 'AUX', 'CCONJ', 'DET', 'INTJ', 'NOUN', 'NUM', 'PART', 'PRON', 'PROPN', 'PUNCT', 'SCONJ', 'SYM', 'VERB', 'X', '_']\n"
     ]
    }
   ],
   "source": [
    "vocabulary_words = sorted(list(\n",
    "    set([word for sentence \n",
    "         in X_train_cat for word in sentence])))\n",
    "pos = sorted(list(set([pos for sentence \n",
    "                       in Y_train_cat for pos in sentence])))\n",
    "print(pos)\n",
    "NB_CLASSES = len(pos)"
   ]
  },
  {
   "cell_type": "markdown",
   "metadata": {},
   "source": [
    "### We create the dictionary\n",
    "We add two words for the padding symbol and unknown words"
   ]
  },
  {
   "cell_type": "code",
   "execution_count": 12,
   "metadata": {},
   "outputs": [
    {
     "name": "stdout",
     "output_type": "stream",
     "text": [
      "Words in GloVe: 400000\n",
      "# unique words in the vocabulary: embeddings and corpus: 401955\n"
     ]
    }
   ],
   "source": [
    "embeddings_words = embeddings_dict.keys()\n",
    "print('Words in GloVe:',  len(embeddings_dict.keys()))\n",
    "vocabulary_words = sorted(list(set(vocabulary_words + \n",
    "                                   list(embeddings_words))))\n",
    "cnt_uniq = len(vocabulary_words) + 2\n",
    "print('# unique words in the vocabulary: embeddings and corpus:', \n",
    "      cnt_uniq)"
   ]
  },
  {
   "cell_type": "markdown",
   "metadata": {},
   "source": [
    "### Function to convert the words or parts of speech to indices"
   ]
  },
  {
   "cell_type": "code",
   "execution_count": 13,
   "metadata": {},
   "outputs": [],
   "source": [
    "def to_index(X, idx):\n",
    "    \"\"\"\n",
    "    Convert the word lists (or POS lists) to indexes\n",
    "    :param X: List of word (or POS) lists\n",
    "    :param idx: word to number dictionary\n",
    "    :return:\n",
    "    \"\"\"\n",
    "    X_idx = []\n",
    "    for x in X:\n",
    "        # We map the unknown words to one\n",
    "        x_idx = list(map(lambda x: idx.get(x, 1), x))\n",
    "        X_idx += [x_idx]\n",
    "    return X_idx"
   ]
  },
  {
   "cell_type": "markdown",
   "metadata": {},
   "source": [
    "### We create the indexes"
   ]
  },
  {
   "cell_type": "code",
   "execution_count": 14,
   "metadata": {},
   "outputs": [
    {
     "name": "stdout",
     "output_type": "stream",
     "text": [
      "word index: [('!', 2), ('!!', 3), ('!!!', 4), ('!!!!', 5), ('!!!!!', 6), ('!!!!!!', 7), ('!!!!!!!', 8), ('!!!!!!!!!!', 9), ('!!!!!!!!!!!', 10), ('!!!!!!!!!!!!', 11)]\n",
      "POS index: [('ADJ', 2), ('ADP', 3), ('ADV', 4), ('AUX', 5), ('CCONJ', 6), ('DET', 7), ('INTJ', 8), ('NOUN', 9), ('NUM', 10), ('PART', 11)]\n"
     ]
    }
   ],
   "source": [
    "# We start at one to make provision for the padding symbol 0 \n",
    "# in RNN and LSTMs and 1 for the unknown words\n",
    "idx_word = dict(enumerate(vocabulary_words, start=2))\n",
    "idx_pos = dict(enumerate(pos, start=2))\n",
    "word_idx = {v: k for k, v in idx_word.items()}\n",
    "pos_idx = {v: k for k, v in idx_pos.items()}\n",
    "print('word index:', list(word_idx.items())[:10])\n",
    "print('POS index:', list(pos_idx.items())[:10])"
   ]
  },
  {
   "cell_type": "code",
   "execution_count": 15,
   "metadata": {},
   "outputs": [
    {
     "name": "stdout",
     "output_type": "stream",
     "text": [
      "First sentences, word indices [[50470, 655, 397720, 43353, 54057, 152346, 208680, 328554, 44671, 50470, 655, 56044, 491, 359039, 292612, 62657, 359039, 251753, 189650, 359039, 364919, 269492, 297985, 491, 259574, 359039, 352068, 81540, 925], [43477, 359943, 208703, 269492, 43521, 308110, 103359, 389585, 71695, 94740, 375861, 367730, 152274, 395272, 362708, 106349, 925, 43479], [129552, 43353, 193769, 64120, 56459, 358982, 359587, 171693, 88396, 375155, 22156, 358142, 95697, 272074, 189650, 66894, 925]]\n",
      "First sentences, POS indices [[13, 14, 13, 14, 2, 9, 17, 13, 13, 13, 14, 13, 14, 7, 9, 3, 7, 9, 3, 7, 9, 3, 13, 14, 3, 7, 2, 9, 14], [14, 7, 9, 3, 7, 2, 9, 5, 5, 17, 12, 9, 3, 9, 11, 17, 14, 14], [13, 14, 2, 9, 17, 15, 12, 5, 17, 3, 10, 2, 9, 17, 3, 13, 14]]\n"
     ]
    }
   ],
   "source": [
    "# We create the parallel sequences of indexes\n",
    "X_idx = to_index(X_train_cat, word_idx)\n",
    "Y_idx = to_index(Y_train_cat, pos_idx)\n",
    "\n",
    "X_val_idx = to_index(X_val_cat, word_idx)\n",
    "Y_val_idx = to_index(Y_val_cat, pos_idx)\n",
    "\n",
    "print('First sentences, word indices', X_idx[:3])\n",
    "print('First sentences, POS indices', Y_idx[:3])"
   ]
  },
  {
   "cell_type": "markdown",
   "metadata": {},
   "source": [
    "### We pad the sentences"
   ]
  },
  {
   "cell_type": "code",
   "execution_count": 16,
   "metadata": {},
   "outputs": [
    {
     "name": "stdout",
     "output_type": "stream",
     "text": [
      "[ 50470    655 397720  43353  54057 152346 208680 328554  44671  50470\n",
      "    655  56044    491 359039 292612  62657 359039 251753 189650 359039\n",
      " 364919 269492 297985    491 259574 359039 352068  81540    925      0\n",
      "      0      0      0      0      0      0      0      0      0      0\n",
      "      0      0      0      0      0      0      0      0      0      0\n",
      "      0      0      0      0      0      0      0      0      0      0\n",
      "      0      0      0      0      0      0      0      0      0      0\n",
      "      0      0      0      0      0      0      0      0      0      0\n",
      "      0      0      0      0      0      0      0      0      0      0\n",
      "      0      0      0      0      0      0      0      0      0      0\n",
      "      0      0      0      0      0      0      0      0      0      0\n",
      "      0      0      0      0      0      0      0      0      0      0\n",
      "      0      0      0      0      0      0      0      0      0      0\n",
      "      0      0      0      0      0      0      0      0      0      0\n",
      "      0      0      0      0      0      0      0      0      0      0\n",
      "      0      0      0      0      0      0      0      0      0      0]\n",
      "[13 14 13 14  2  9 17 13 13 13 14 13 14  7  9  3  7  9  3  7  9  3 13 14\n",
      "  3  7  2  9 14  0  0  0  0  0  0  0  0  0  0  0  0  0  0  0  0  0  0  0\n",
      "  0  0  0  0  0  0  0  0  0  0  0  0  0  0  0  0  0  0  0  0  0  0  0  0\n",
      "  0  0  0  0  0  0  0  0  0  0  0  0  0  0  0  0  0  0  0  0  0  0  0  0\n",
      "  0  0  0  0  0  0  0  0  0  0  0  0  0  0  0  0  0  0  0  0  0  0  0  0\n",
      "  0  0  0  0  0  0  0  0  0  0  0  0  0  0  0  0  0  0  0  0  0  0  0  0\n",
      "  0  0  0  0  0  0  0  0  0  0  0  0  0  0  0  0]\n"
     ]
    }
   ],
   "source": [
    "X = pad_sequences(X_idx, padding='post')\n",
    "Y = pad_sequences(Y_idx, padding='post')\n",
    "\n",
    "X_val = pad_sequences(X_val_idx, padding='post')\n",
    "Y_val_num = pad_sequences(Y_val_idx, padding='post')\n",
    "\n",
    "print(X[0])\n",
    "print(Y[0])"
   ]
  },
  {
   "cell_type": "code",
   "execution_count": 17,
   "metadata": {},
   "outputs": [
    {
     "data": {
      "text/plain": [
       "array([[0., 0., 0., ..., 0., 0., 0.],\n",
       "       [0., 0., 0., ..., 0., 0., 0.],\n",
       "       [0., 0., 0., ..., 0., 0., 0.],\n",
       "       ...,\n",
       "       [1., 0., 0., ..., 0., 0., 0.],\n",
       "       [1., 0., 0., ..., 0., 0., 0.],\n",
       "       [1., 0., 0., ..., 0., 0., 0.]], dtype=float32)"
      ]
     },
     "execution_count": 17,
     "metadata": {},
     "output_type": "execute_result"
    }
   ],
   "source": [
    "# The number of POS classes and 0 (padding symbol)\n",
    "Y_train = to_categorical(Y, num_classes=len(pos) + 2)\n",
    "Y_val = to_categorical(Y_val_num, num_classes=len(pos) + 2)\n",
    "Y_train[0]"
   ]
  },
  {
   "cell_type": "markdown",
   "metadata": {},
   "source": [
    "### We create an embedding matrix\n",
    "0 is the padding symbol and index one is a unknown word"
   ]
  },
  {
   "cell_type": "code",
   "execution_count": 18,
   "metadata": {},
   "outputs": [],
   "source": [
    "rdstate = np.random.RandomState(1234567)\n",
    "embedding_matrix = rdstate.uniform(-0.05, 0.05, \n",
    "                                   (len(vocabulary_words) + 2, \n",
    "                                    EMBEDDING_DIM))"
   ]
  },
  {
   "cell_type": "code",
   "execution_count": 19,
   "metadata": {},
   "outputs": [],
   "source": [
    "for word in vocabulary_words:\n",
    "    if word in embeddings_dict:\n",
    "        # If the words are in the embeddings, we fill them with a value\n",
    "        embedding_matrix[word_idx[word]] = embeddings_dict[word]"
   ]
  },
  {
   "cell_type": "code",
   "execution_count": 20,
   "metadata": {},
   "outputs": [
    {
     "name": "stdout",
     "output_type": "stream",
     "text": [
      "Shape of embedding matrix: (401955, 100)\n",
      "Embedding of table [-0.61453998  0.89692998  0.56770998  0.39102    -0.22437     0.49035001\n",
      "  0.10868     0.27410999 -0.23833001 -0.52152997  0.73550999 -0.32653999\n",
      "  0.51304001  0.32415    -0.46709001  0.68050998 -0.25497001 -0.040484\n",
      " -0.54417998 -1.05480003 -0.46691999  0.23557     0.31233999 -0.34536999\n",
      "  0.14793    -0.53745002 -0.43215001 -0.48723999 -0.51019001 -0.90509999\n",
      " -0.17918999 -0.018376    0.09719    -0.31623     0.75120002  0.92236\n",
      " -0.49965     0.14036    -0.28296    -0.97443002 -0.0094408  -0.62944001\n",
      "  0.14711    -0.94375998  0.0075222   0.18565001 -0.99172002  0.072789\n",
      " -0.18474001 -0.52901     0.38995001 -0.45677    -0.21932     1.37230003\n",
      " -0.29635999 -2.2342     -0.36667001  0.04987     0.63420999  0.53275001\n",
      " -0.53955001  0.31398001 -0.44698    -0.38389     0.066668   -0.02168\n",
      "  0.20558     0.59456003 -0.24891999 -0.52794999 -0.3761      0.077104\n",
      "  0.75221997 -0.2647     -0.0587      0.67540997 -0.16559    -0.49278\n",
      " -0.26326999 -0.21214999  0.24316999  0.17005999 -0.29260001 -0.50089997\n",
      " -0.56638002 -0.40377    -0.48451999 -0.32539001  0.75292999  0.0049585\n",
      " -0.32115     0.28898999 -0.042392    0.63862997 -0.20332    -0.46785\n",
      " -0.15661     0.21789999  1.41429996  0.40033999]\n",
      "Embedding of the padding symbol, idx 0, random numbers [-0.02629708 -0.04923516 -0.04801697 -0.01869074 -0.04005453 -0.03048257\n",
      " -0.0292702  -0.03350688  0.0211879  -0.04679333 -0.03026304  0.0464557\n",
      "  0.00738946  0.01992277  0.04746414  0.01543505 -0.02391317 -0.03035904\n",
      "  0.03614633 -0.01292743 -0.01311645  0.00429138  0.01827985  0.03228761\n",
      " -0.03686076 -0.04223968  0.03409078 -0.0278994   0.02529113 -0.0156977\n",
      " -0.04902496 -0.01042922 -0.029072   -0.00319148 -0.01353996  0.00950514\n",
      "  0.0413734  -0.00028032 -0.01519774 -0.01369095  0.03702888 -0.01152137\n",
      "  0.03035301  0.00264644 -0.0463597  -0.02356203 -0.033484   -0.02621933\n",
      " -0.03773337  0.01826283  0.03646911 -0.04109766 -0.03953006  0.04822013\n",
      " -0.02821295 -0.0431476  -0.02476419  0.04927545 -0.02866612 -0.00881531\n",
      " -0.01183301  0.02965345 -0.03483367  0.0109977  -0.04514807 -0.0231921\n",
      "  0.00176915  0.00485835 -0.0040727  -0.01905112 -0.02361332 -0.03425079\n",
      "  0.04564135 -0.02310861  0.04121954 -0.04504611  0.00330172  0.01987282\n",
      " -0.00783856  0.0198199  -0.02306001 -0.0187176   0.03677814 -0.03901311\n",
      " -0.03016801  0.03832556  0.02892775  0.04970791 -0.01038987  0.04192337\n",
      "  0.0403074  -0.01217054  0.04221675 -0.02228818  0.03978376 -0.00845296\n",
      "  0.00691154  0.01943966  0.00093845 -0.03084958]\n"
     ]
    }
   ],
   "source": [
    "print('Shape of embedding matrix:', embedding_matrix.shape)\n",
    "print('Embedding of table', embedding_matrix[word_idx['table']])\n",
    "print('Embedding of the padding symbol, idx 0, random numbers', \n",
    "      embedding_matrix[0])"
   ]
  },
  {
   "cell_type": "markdown",
   "metadata": {},
   "source": [
    "## The Network"
   ]
  },
  {
   "cell_type": "code",
   "execution_count": 21,
   "metadata": {},
   "outputs": [],
   "source": [
    "model = models.Sequential([\n",
    "    Embedding(len(vocabulary_words) + 2,\n",
    "              EMBEDDING_DIM,\n",
    "              mask_zero=True,\n",
    "              input_length=None),\n",
    "    # SimpleRNN(100, return_sequences=True),\n",
    "    # Bidirectional(SimpleRNN(100, return_sequences=True)),\n",
    "    Bidirectional(LSTM(100, return_sequences=True)),\n",
    "    Dense(NB_CLASSES + 2, activation='softmax')])\n",
    "\n",
    "model.layers[0].set_weights([embedding_matrix])\n",
    "# The default is True\n",
    "model.layers[0].trainable = True"
   ]
  },
  {
   "cell_type": "markdown",
   "metadata": {},
   "source": [
    "### We fit it"
   ]
  },
  {
   "cell_type": "code",
   "execution_count": 22,
   "metadata": {},
   "outputs": [
    {
     "name": "stdout",
     "output_type": "stream",
     "text": [
      "Model: \"sequential\"\n",
      "_________________________________________________________________\n",
      "Layer (type)                 Output Shape              Param #   \n",
      "=================================================================\n",
      "embedding (Embedding)        (None, None, 100)         40195500  \n",
      "_________________________________________________________________\n",
      "bidirectional (Bidirectional (None, None, 200)         160800    \n",
      "_________________________________________________________________\n",
      "dense (Dense)                (None, None, 20)          4020      \n",
      "=================================================================\n",
      "Total params: 40,360,320\n",
      "Trainable params: 40,360,320\n",
      "Non-trainable params: 0\n",
      "_________________________________________________________________\n",
      "Epoch 1/10\n",
      "98/98 [==============================] - 37s 376ms/step - loss: 0.1312 - accuracy: 0.6538 - val_loss: 0.1041 - val_accuracy: 0.8262\n",
      "Epoch 2/10\n",
      "98/98 [==============================] - 34s 348ms/step - loss: 0.0418 - accuracy: 0.8862 - val_loss: 0.0609 - val_accuracy: 0.8923\n",
      "Epoch 3/10\n",
      "98/98 [==============================] - 35s 359ms/step - loss: 0.0273 - accuracy: 0.9213 - val_loss: 0.0503 - val_accuracy: 0.9091\n",
      "Epoch 4/10\n",
      "98/98 [==============================] - 34s 351ms/step - loss: 0.0216 - accuracy: 0.9368 - val_loss: 0.0456 - val_accuracy: 0.9171\n",
      "Epoch 5/10\n",
      "98/98 [==============================] - 35s 358ms/step - loss: 0.0183 - accuracy: 0.9463 - val_loss: 0.0418 - val_accuracy: 0.9218\n",
      "Epoch 6/10\n",
      "98/98 [==============================] - 35s 356ms/step - loss: 0.0158 - accuracy: 0.9533 - val_loss: 0.0404 - val_accuracy: 0.9234\n",
      "Epoch 7/10\n",
      "98/98 [==============================] - 35s 361ms/step - loss: 0.0140 - accuracy: 0.9592 - val_loss: 0.0389 - val_accuracy: 0.9270\n",
      "Epoch 8/10\n",
      "98/98 [==============================] - 35s 358ms/step - loss: 0.0125 - accuracy: 0.9638 - val_loss: 0.0386 - val_accuracy: 0.9291\n",
      "Epoch 9/10\n",
      "98/98 [==============================] - 35s 361ms/step - loss: 0.0112 - accuracy: 0.9678 - val_loss: 0.0379 - val_accuracy: 0.9304\n",
      "Epoch 10/10\n",
      "98/98 [==============================] - 35s 359ms/step - loss: 0.0101 - accuracy: 0.9708 - val_loss: 0.0376 - val_accuracy: 0.9317\n"
     ]
    }
   ],
   "source": [
    "model.compile(loss='categorical_crossentropy',\n",
    "              optimizer='rmsprop',\n",
    "              metrics=['accuracy'])\n",
    "model.summary()\n",
    "history = model.fit(X, Y_train, epochs=EPOCHS, validation_data=(X_val, Y_val), batch_size=BATCH_SIZE)"
   ]
  },
  {
   "cell_type": "code",
   "execution_count": 23,
   "metadata": {},
   "outputs": [],
   "source": [
    "acc = history.history['accuracy']\n",
    "val_acc = history.history['val_accuracy']\n",
    "loss = history.history['loss']\n",
    "val_loss = history.history['val_loss']\n",
    "epochs = range(1, len(acc) + 1)"
   ]
  },
  {
   "cell_type": "code",
   "execution_count": 24,
   "metadata": {},
   "outputs": [
    {
     "data": {
      "image/png": "[encoded data removed]",
      "text/plain": [
       "<Figure size 432x288 with 1 Axes>"
      ]
     },
     "metadata": {
      "needs_background": "light"
     },
     "output_type": "display_data"
    }
   ],
   "source": [
    "plt.plot(epochs, loss, 'bo', label='Training loss')\n",
    "plt.plot(epochs, val_loss, 'b', label='Validation loss')\n",
    "plt.title('Training and validation loss')\n",
    "plt.xlabel('Epochs')\n",
    "plt.ylabel('Loss')\n",
    "plt.legend()\n",
    "plt.show()"
   ]
  },
  {
   "cell_type": "code",
   "execution_count": 25,
   "metadata": {},
   "outputs": [
    {
     "data": {
      "image/png": "[encoded data removed]",
      "text/plain": [
       "<Figure size 432x288 with 1 Axes>"
      ]
     },
     "metadata": {
      "needs_background": "light"
     },
     "output_type": "display_data"
    }
   ],
   "source": [
    "plt.plot(epochs, acc, 'bo', label='Training acc')\n",
    "plt.plot(epochs, val_acc, 'b', label='Validation acc')\n",
    "plt.title('Training and validation accuracy')\n",
    "plt.xlabel('Epochs')\n",
    "plt.ylabel('Accuracy')\n",
    "plt.show()"
   ]
  },
  {
   "cell_type": "markdown",
   "metadata": {},
   "source": [
    "## Evaluation"
   ]
  },
  {
   "cell_type": "markdown",
   "metadata": {},
   "source": [
    "### Formatting the Test Set"
   ]
  },
  {
   "cell_type": "code",
   "execution_count": 26,
   "metadata": {},
   "outputs": [
    {
     "name": "stdout",
     "output_type": "stream",
     "text": [
      "X[0] test idx [388186, 187811, 165422, 251390, 192990, 1, 43465]\n",
      "Y[0] test idx [12, 15, 13, 17, 3, 13, 14]\n",
      "X[0] test idx passed [388186 187811 165422 251390 192990      1  43465      0      0      0\n",
      "      0      0      0      0      0      0      0      0      0      0\n",
      "      0      0      0      0      0      0      0      0      0      0\n",
      "      0      0      0      0      0      0      0      0      0      0\n",
      "      0      0      0      0      0      0      0      0      0      0\n",
      "      0      0      0      0      0      0      0      0      0      0\n",
      "      0      0      0      0      0      0      0      0      0      0\n",
      "      0      0      0      0      0      0      0      0      0      0\n",
      "      0      0      0      0]\n",
      "Y[0] test idx padded [12 15 13 17  3 13 14  0  0  0  0  0  0  0  0  0  0  0  0  0  0  0  0  0\n",
      "  0  0  0  0  0  0  0  0  0  0  0  0  0  0  0  0  0  0  0  0  0  0  0  0\n",
      "  0  0  0  0  0  0  0  0  0  0  0  0  0  0  0  0  0  0  0  0  0  0  0  0\n",
      "  0  0  0  0  0  0  0  0  0  0  0  0]\n",
      "Y[0] test idx padded vectorized [[0. 0. 0. ... 0. 0. 0.]\n",
      " [0. 0. 0. ... 0. 0. 0.]\n",
      " [0. 0. 0. ... 0. 0. 0.]\n",
      " ...\n",
      " [1. 0. 0. ... 0. 0. 0.]\n",
      " [1. 0. 0. ... 0. 0. 0.]\n",
      " [1. 0. 0. ... 0. 0. 0.]]\n",
      "(2077, 84)\n",
      "(2077, 84, 20)\n"
     ]
    }
   ],
   "source": [
    "# In X_dict, we replace the words with their index\n",
    "X_test_cat, Y_test_cat = build_sequences(test_dict)\n",
    "# We create the parallel sequences of indexes\n",
    "X_test_idx = to_index(X_test_cat, word_idx)\n",
    "Y_test_idx = to_index(Y_test_cat, pos_idx)\n",
    "\n",
    "print('X[0] test idx', X_test_idx[0])\n",
    "print('Y[0] test idx', Y_test_idx[0])\n",
    "\n",
    "X_test_padded = pad_sequences(X_test_idx, padding='post')\n",
    "Y_test_padded = pad_sequences(Y_test_idx, padding='post')\n",
    "print('X[0] test idx passed', X_test_padded[0])\n",
    "print('Y[0] test idx padded', Y_test_padded[0])\n",
    "# One extra symbol for 0 (padding)\n",
    "Y_test_padded_vectorized = to_categorical(Y_test_padded, \n",
    "                                          num_classes=len(pos) + 2)\n",
    "print('Y[0] test idx padded vectorized', Y_test_padded_vectorized[0])\n",
    "print(X_test_padded.shape)\n",
    "print(Y_test_padded_vectorized.shape)"
   ]
  },
  {
   "cell_type": "markdown",
   "metadata": {},
   "source": [
    "### Evaluation"
   ]
  },
  {
   "cell_type": "code",
   "execution_count": 27,
   "metadata": {},
   "outputs": [
    {
     "name": "stdout",
     "output_type": "stream",
     "text": [
      "65/65 [==============================] - 1s 12ms/step - loss: 0.0307 - accuracy: 0.9363\n",
      "Loss: 0.030681593343615532\n",
      "Accuracy: 0.9362539052963257\n"
     ]
    }
   ],
   "source": [
    "# Evaluates with the padding symbol\n",
    "test_loss, test_acc = model.evaluate(X_test_padded, \n",
    "                                     Y_test_padded_vectorized)\n",
    "print('Loss:', test_loss)\n",
    "print('Accuracy:', test_acc)"
   ]
  },
  {
   "cell_type": "markdown",
   "metadata": {},
   "source": [
    "We reach 93.50 with bidirectional LSTMs"
   ]
  },
  {
   "cell_type": "markdown",
   "metadata": {},
   "source": [
    "### We evaluate on all the test corpus"
   ]
  },
  {
   "cell_type": "code",
   "execution_count": 28,
   "metadata": {},
   "outputs": [
    {
     "name": "stdout",
     "output_type": "stream",
     "text": [
      "X_test ['what', 'if', 'google', 'morphed', 'into', 'googleos', '?']\n",
      "X_test_padded [388186 187811 165422 251390 192990      1  43465      0      0      0\n",
      "      0      0      0      0      0      0      0      0      0      0\n",
      "      0      0      0      0      0      0      0      0      0      0\n",
      "      0      0      0      0      0      0      0      0      0      0\n",
      "      0      0      0      0      0      0      0      0      0      0\n",
      "      0      0      0      0      0      0      0      0      0      0\n",
      "      0      0      0      0      0      0      0      0      0      0\n",
      "      0      0      0      0      0      0      0      0      0      0\n",
      "      0      0      0      0]\n",
      "Y_test ['PRON', 'SCONJ', 'PROPN', 'VERB', 'ADP', 'PROPN', 'PUNCT']\n",
      "Y_test_padded [12 15 13 17  3 13 14  0  0  0  0  0  0  0  0  0  0  0  0  0  0  0  0  0\n",
      "  0  0  0  0  0  0  0  0  0  0  0  0  0  0  0  0  0  0  0  0  0  0  0  0\n",
      "  0  0  0  0  0  0  0  0  0  0  0  0  0  0  0  0  0  0  0  0  0  0  0  0\n",
      "  0  0  0  0  0  0  0  0  0  0  0  0]\n",
      "Y_test_probs [[2.0406992e-07 6.4119371e-07 8.7409944e-06 ... 6.9407007e-04\n",
      "  2.0997171e-05 3.1060690e-06]\n",
      " [5.8613150e-08 2.0132397e-07 3.0529375e-07 ... 3.3166245e-04\n",
      "  4.0436866e-05 2.8550219e-06]\n",
      " [4.3816883e-09 7.2319994e-09 6.3981752e-06 ... 7.0687379e-03\n",
      "  3.7022453e-04 4.2575493e-06]\n",
      " ...\n",
      " [2.7928146e-02 2.7962776e-02 5.2033458e-02 ... 5.3006899e-02\n",
      "  7.1652032e-02 4.2419888e-02]\n",
      " [2.7928146e-02 2.7962776e-02 5.2033458e-02 ... 5.3006899e-02\n",
      "  7.1652032e-02 4.2419888e-02]\n",
      " [2.7928146e-02 2.7962776e-02 5.2033458e-02 ... 5.3006899e-02\n",
      "  7.1652032e-02 4.2419888e-02]]\n",
      "Y_test_hat [12, 15, 13, 17, 3, 13, 14, 18, 18, 18, 18, 18, 18, 18, 18, 18, 18, 18, 18, 18, 18, 18, 18, 18, 18, 18, 18, 18, 18, 18, 18, 18, 18, 18, 18, 18, 18, 18, 18, 18, 18, 18, 18, 18, 18, 18, 18, 18, 18, 18, 18, 18, 18, 18, 18, 18, 18, 18, 18, 18, 18, 18, 18, 18, 18, 18, 18, 18, 18, 18, 18, 18, 18, 18, 18, 18, 18, 18, 18, 18, 18, 18, 18, 18]\n"
     ]
    }
   ],
   "source": [
    "print('X_test', X_test_cat[0])\n",
    "print('X_test_padded', X_test_padded[0])\n",
    "Y_test_probs_padded = model.predict(X_test_padded)\n",
    "print('Y_test', Y_test_cat[0])\n",
    "print('Y_test_padded', Y_test_padded[0])\n",
    "print('Y_test_probs', Y_test_probs_padded[0])\n",
    "print('Y_test_hat', list(map(np.argmax, Y_test_probs_padded[0])))"
   ]
  },
  {
   "cell_type": "markdown",
   "metadata": {},
   "source": [
    "### Remove padding"
   ]
  },
  {
   "cell_type": "code",
   "execution_count": 29,
   "metadata": {},
   "outputs": [
    {
     "name": "stdout",
     "output_type": "stream",
     "text": [
      "[array([[2.0406992e-07, 6.4119371e-07, 8.7409944e-06, 1.0739714e-06,\n",
      "        1.3544738e-03, 5.8148062e-06, 4.3643768e-06, 2.6677044e-03,\n",
      "        5.2317861e-04, 4.4624565e-05, 1.2302261e-08, 8.7686813e-06,\n",
      "        9.9326235e-01, 2.5175133e-05, 1.0306400e-06, 1.3736206e-03,\n",
      "        2.4225167e-07, 6.9407007e-04, 2.0997171e-05, 3.1060690e-06],\n",
      "       [5.8613150e-08, 2.0132397e-07, 3.0529375e-07, 3.5392327e-04,\n",
      "        4.9827737e-05, 1.3565624e-03, 7.2115734e-05, 1.3640872e-04,\n",
      "        5.5605974e-06, 2.7781358e-05, 1.5165783e-08, 3.2395496e-05,\n",
      "        6.1111736e-05, 5.7429232e-04, 9.3219151e-06, 9.9694413e-01,\n",
      "        9.1104681e-07, 3.3166245e-04, 4.0436866e-05, 2.8550219e-06],\n",
      "       [4.3816883e-09, 7.2319994e-09, 6.3981752e-06, 2.1451795e-06,\n",
      "        6.3325150e-04, 3.4491697e-04, 3.6130045e-06, 4.7650178e-07,\n",
      "        8.8228071e-06, 6.1792391e-04, 5.7488705e-07, 2.9602557e-05,\n",
      "        2.0361380e-05, 9.9047148e-01, 2.8835629e-07, 4.1189193e-04,\n",
      "        5.1036054e-06, 7.0687379e-03, 3.7022453e-04, 4.2575493e-06],\n",
      "       [2.9280049e-08, 2.3933486e-08, 4.7065852e-05, 1.8045859e-05,\n",
      "        1.3469242e-02, 3.6604481e-05, 1.1350785e-06, 1.1076504e-06,\n",
      "        2.2987501e-06, 4.5860314e-05, 3.2459677e-06, 2.1751555e-06,\n",
      "        1.2391517e-05, 6.0928887e-05, 2.0431179e-08, 8.0069120e-05,\n",
      "        1.9529380e-06, 9.8619890e-01, 1.8490937e-05, 3.1909795e-07],\n",
      "       [6.8407195e-07, 7.4055873e-07, 8.8998087e-05, 9.9033010e-01,\n",
      "        1.3644747e-03, 1.2571885e-06, 3.4327270e-05, 3.9709666e-05,\n",
      "        3.3759429e-06, 7.1841960e-06, 1.3519137e-06, 1.2908586e-05,\n",
      "        7.5914254e-06, 1.4669470e-04, 4.0011130e-08, 7.5756670e-03,\n",
      "        1.8555517e-06, 1.8649170e-04, 1.9656352e-04, 1.4539910e-08],\n",
      "       [3.3460857e-08, 7.6619763e-08, 2.1608068e-02, 7.5486943e-04,\n",
      "        7.7646365e-03, 8.7904802e-05, 6.2263731e-05, 6.9846072e-05,\n",
      "        8.5641089e-04, 2.5392807e-01, 7.2139283e-03, 1.4930460e-05,\n",
      "        2.1894145e-04, 6.0046512e-01, 1.9375229e-04, 1.4972987e-04,\n",
      "        3.6480516e-04, 8.7506570e-02, 1.8710798e-02, 2.9224393e-05],\n",
      "       [8.3567042e-12, 2.1088001e-11, 3.4556247e-09, 1.6598868e-06,\n",
      "        1.6243438e-06, 3.6811781e-07, 1.9118039e-05, 1.7249715e-07,\n",
      "        8.5149673e-05, 7.4172281e-06, 4.1692493e-07, 8.6956874e-07,\n",
      "        3.2581196e-05, 1.2344311e-05, 9.9955040e-01, 4.9294172e-06,\n",
      "        2.6272406e-04, 1.4208877e-09, 2.0204308e-05, 2.0916613e-09]],\n",
      "      dtype=float32)]\n"
     ]
    }
   ],
   "source": [
    "Y_test_probs = []\n",
    "for sent_nbr, y_test_probs_padded in enumerate(Y_test_probs_padded):\n",
    "    Y_test_probs += [y_test_probs_padded[:len(X_test_cat[sent_nbr])]]\n",
    "print(Y_test_probs[:1])"
   ]
  },
  {
   "cell_type": "markdown",
   "metadata": {},
   "source": [
    "### Convert POS indices to symbols"
   ]
  },
  {
   "cell_type": "code",
   "execution_count": 30,
   "metadata": {},
   "outputs": [
    {
     "name": "stdout",
     "output_type": "stream",
     "text": [
      "[['PRON', 'SCONJ', 'PROPN', 'VERB', 'ADP', 'PROPN', 'PUNCT'], ['PRON', 'SCONJ', 'PROPN', 'VERB', 'ADP', 'PRON', 'NOUN', 'PUNCT', 'NOUN', 'PUNCT', 'CCONJ', 'ADV', 'NOUN', 'PUNCT', 'VERB', 'ADP', 'DET', 'ADJ', 'PUNCT', 'ADJ', 'NOUN', 'NOUN', 'PUNCT']]\n",
      "[['PRON', 'SCONJ', 'PROPN', 'VERB', 'ADP', 'PROPN', 'PUNCT'], ['PRON', 'SCONJ', 'PROPN', 'VERB', 'ADP', 'PRON', 'NOUN', 'PUNCT', 'NOUN', 'PUNCT', 'CCONJ', 'ADV', 'NOUN', 'PUNCT', 'NOUN', 'ADP', 'DET', 'ADV', 'PUNCT', 'ADJ', 'NOUN', 'NOUN', 'PUNCT']]\n"
     ]
    }
   ],
   "source": [
    "Y_test_cat_hat = []\n",
    "for y_probs in Y_test_probs:\n",
    "    y_idx = list(map(np.argmax, y_probs))\n",
    "    y_cat_hat = list(map(idx_pos.get, y_idx))\n",
    "    Y_test_cat_hat += [y_cat_hat]\n",
    "\n",
    "print(Y_test_cat_hat[:2])\n",
    "print(Y_test_cat[:2])"
   ]
  },
  {
   "cell_type": "markdown",
   "metadata": {},
   "source": [
    "### Evaluate"
   ]
  },
  {
   "cell_type": "code",
   "execution_count": 31,
   "metadata": {},
   "outputs": [
    {
     "name": "stdout",
     "output_type": "stream",
     "text": [
      "total 25429, correct 23808, accuracy 0.936254\n",
      "total unknown 478, correct 292, accuracy 0.610879\n"
     ]
    }
   ],
   "source": [
    "total, correct, total_ukn, correct_ukn = 0, 0, 0, 0\n",
    "for id_s, x_test_cat in enumerate(X_test_cat):\n",
    "    for id_w, word in enumerate(x_test_cat):\n",
    "        total += 1\n",
    "        if Y_test_cat_hat[id_s][id_w] == Y_test_cat[id_s][id_w]:\n",
    "            correct += 1\n",
    "        # The word is not in the dictionary\n",
    "        if word not in word_idx:\n",
    "            total_ukn += 1\n",
    "            if Y_test_cat_hat[id_s][id_w] == Y_test_cat[id_s][id_w]:\n",
    "                correct_ukn += 1\n",
    "\n",
    "print('total %d, correct %d, accuracy %f' % \n",
    "      (total, correct, correct / total))\n",
    "if total_ukn != 0:\n",
    "    print('total unknown %d, correct %d, accuracy %f' % \n",
    "          (total_ukn, correct_ukn, correct_ukn / total_ukn))"
   ]
  },
  {
   "cell_type": "markdown",
   "metadata": {},
   "source": [
    "## Prediction of parts of speech"
   ]
  },
  {
   "cell_type": "code",
   "execution_count": 32,
   "metadata": {},
   "outputs": [],
   "source": [
    "def predict_sentence(sentence, model, word_idx, \n",
    "                     vocabulary_words, idx_pos, verbose=False):\n",
    "    # Predict one sentence\n",
    "    sentence = sentence.split()\n",
    "    word_idxs = to_index([sentence], word_idx)\n",
    "    pos_idx_pred = model.predict(word_idxs)[0]\n",
    "    pos_idxs = list(map(np.argmax, pos_idx_pred))\n",
    "    pos = list(map(idx_pos.get, pos_idxs))\n",
    "    if verbose:\n",
    "        print('Sentence', sentence)\n",
    "        print('Sentence word indexes', word_idxs)\n",
    "        #print('Padded sentence', word_idx_padded)\n",
    "        print('POS predicted', pos_idx_pred[0])\n",
    "        print('POS shape', pos_idx_pred.shape)\n",
    "    return pos"
   ]
  },
  {
   "cell_type": "code",
   "execution_count": 33,
   "metadata": {},
   "outputs": [
    {
     "name": "stdout",
     "output_type": "stream",
     "text": [
      "That round table might collapse .\n",
      "['DET', 'DET', 'NOUN', 'AUX', 'VERB', 'PUNCT']\n",
      "The man can learn well .\n",
      "['DET', 'NOUN', 'AUX', 'VERB', 'ADV', 'PUNCT']\n",
      "The man can swim .\n",
      "['DET', 'NOUN', 'AUX', 'VERB', 'PUNCT']\n",
      "The man can simwo .\n",
      "['DET', 'NOUN', 'AUX', 'VERB', 'PUNCT']\n"
     ]
    }
   ],
   "source": [
    "sentences = ['That round table might collapse .',\n",
    "                 'The man can learn well .',\n",
    "                 'The man can swim .',\n",
    "                 'The man can simwo .']\n",
    "for sentence in sentences:\n",
    "    y_test_cat_hat = predict_sentence(sentence.lower(), \n",
    "                                       model, word_idx, \n",
    "                                       vocabulary_words, \n",
    "                                       idx_pos)\n",
    "    print(sentence)\n",
    "    print(y_test_cat_hat)"
   ]
  },
  {
   "cell_type": "code",
   "execution_count": null,
   "metadata": {},
   "outputs": [],
   "source": []
  }
 ],
 "metadata": {
  "kernelspec": {
   "display_name": "Python 3",
   "language": "python",
   "name": "python3"
  },
  "language_info": {
   "codemirror_mode": {
    "name": "ipython",
    "version": 3
   },
   "file_extension": ".py",
   "mimetype": "text/x-python",
   "name": "python",
   "nbconvert_exporter": "python",
   "pygments_lexer": "ipython3",
   "version": "3.8.5"
  }
 },
 "nbformat": 4,
 "nbformat_minor": 4
}
